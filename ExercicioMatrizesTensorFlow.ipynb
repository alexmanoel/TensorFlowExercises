{
  "nbformat": 4,
  "nbformat_minor": 0,
  "metadata": {
    "colab": {
      "name": "ExercicioMatrizesTensorFlow.ipynb",
      "provenance": [],
      "authorship_tag": "ABX9TyO7LFjeLG4Xds/HY5Kc6AoO",
      "include_colab_link": true
    },
    "kernelspec": {
      "name": "python3",
      "display_name": "Python 3"
    },
    "language_info": {
      "name": "python"
    }
  },
  "cells": [
    {
      "cell_type": "markdown",
      "metadata": {
        "id": "view-in-github",
        "colab_type": "text"
      },
      "source": [
        "<a href=\"https://colab.research.google.com/github/alexmanoel/TensorFlowExercises/blob/main/ExercicioMatrizesTensorFlow.ipynb\" target=\"_parent\"><img src=\"https://colab.research.google.com/assets/colab-badge.svg\" alt=\"Open In Colab\"/></a>"
      ]
    },
    {
      "cell_type": "code",
      "metadata": {
        "id": "0rqQZk_E8SRY"
      },
      "source": [
        "# TensorFlow - Matrizes e Operações com Matrizes\n",
        "\n",
        "# Importando os Pacotes\n",
        "import numpy as np\n",
        "import tensorflow as tf\n",
        "import os\n",
        "os.environ['TF_CPP_MIN_LOG_LEVEL'] = '3'"
      ],
      "execution_count": 1,
      "outputs": []
    },
    {
      "cell_type": "code",
      "metadata": {
        "colab": {
          "base_uri": "https://localhost:8080/"
        },
        "id": "5oi926QU83se",
        "outputId": "547c4a59-740e-4887-985b-117597cbcaa1"
      },
      "source": [
        "# Criando uma matriz identidade 2x3\n",
        "identityMatriz = tf.eye(2, num_columns=3)\n",
        "print(\"\\nMatriz Identidade\")\n",
        "tf.print(identityMatriz)"
      ],
      "execution_count": 29,
      "outputs": [
        {
          "output_type": "stream",
          "text": [
            "\n",
            "Matriz Identidade\n",
            "[[1 0 0]\n",
            " [0 1 0]]\n"
          ],
          "name": "stdout"
        }
      ]
    },
    {
      "cell_type": "code",
      "metadata": {
        "colab": {
          "base_uri": "https://localhost:8080/"
        },
        "id": "NCGop_mIFwe_",
        "outputId": "27e5bb6f-f1fc-4198-cf25-e92edbc7809b"
      },
      "source": [
        "# Criando uma matriz 2x3 randomicamente normalizada\n",
        "A = tf.random.truncated_normal([2,3])\n",
        "print(\"\\nMatriz A - 2x3\")\n",
        "tf.print(A)"
      ],
      "execution_count": 28,
      "outputs": [
        {
          "output_type": "stream",
          "text": [
            "\n",
            "Matriz A - 2x3\n",
            "[[-0.0748146772 1.40461731 -0.665083766]\n",
            " [0.115781777 0.108602069 0.867733538]]\n"
          ],
          "name": "stdout"
        }
      ]
    },
    {
      "cell_type": "code",
      "metadata": {
        "colab": {
          "base_uri": "https://localhost:8080/"
        },
        "id": "R5-2-PDGBAxx",
        "outputId": "8d571544-ed13-4f0a-8d49-4cd1dfd77135"
      },
      "source": [
        "# Criando uma matriz 2x3 com valores constantes\n",
        "B = tf.fill([2, 3], 5.0)\n",
        "print(\"\\nMatriz B - 2x3\")\n",
        "tf.print(B)"
      ],
      "execution_count": 30,
      "outputs": [
        {
          "output_type": "stream",
          "text": [
            "\n",
            "Matriz B - 2x3\n",
            "[[5 5 5]\n",
            " [5 5 5]]\n"
          ],
          "name": "stdout"
        }
      ]
    },
    {
      "cell_type": "code",
      "metadata": {
        "colab": {
          "base_uri": "https://localhost:8080/"
        },
        "id": "dvGDT4JQCCZN",
        "outputId": "60aeb458-a1b9-44b6-85bc-d1e99d2e7875"
      },
      "source": [
        "# Criando uma matriz 2x3 com valores randomicamente uniforme\n",
        "C = tf.random.uniform([2,3])\n",
        "print(\"\\nMatriz C - 2x3\")\n",
        "tf.print(C)"
      ],
      "execution_count": 31,
      "outputs": [
        {
          "output_type": "stream",
          "text": [
            "\n",
            "Matriz C - 2x3\n",
            "[[0.959774613 0.12152791 0.197883129]\n",
            " [0.193237901 0.998395443 0.312945604]]\n"
          ],
          "name": "stdout"
        }
      ]
    },
    {
      "cell_type": "code",
      "metadata": {
        "colab": {
          "base_uri": "https://localhost:8080/"
        },
        "id": "5kNq1Nh6DStr",
        "outputId": "d8fc4901-83be-4552-92b9-bf66d3555c8f"
      },
      "source": [
        "# Convertendo um array numpy 3x3 para um tensor\n",
        "array1 = np.array([[1.,2.,3.], [-3.,-7.,-1.], [0., 5., -2.]])\n",
        "D = tf.convert_to_tensor(array1, dtype = tf.float64)\n",
        "print(\"\\nMatriz D - 3x3\")\n",
        "tf.print(D)"
      ],
      "execution_count": 32,
      "outputs": [
        {
          "output_type": "stream",
          "text": [
            "\n",
            "Matriz D - 3x3\n",
            "[[1 2 3]\n",
            " [-3 -7 -1]\n",
            " [0 5 -2]]\n"
          ],
          "name": "stdout"
        }
      ]
    },
    {
      "cell_type": "code",
      "metadata": {
        "colab": {
          "base_uri": "https://localhost:8080/"
        },
        "id": "EajzehrBE2eD",
        "outputId": "74b0809a-a763-4887-9512-0b75ebcb8abe"
      },
      "source": [
        "# Adicione a matrix A com a Matriz B\n",
        "print(\"\\nSoma A + B\")\n",
        "somaMatriz = tf.math.add(A,B)\n",
        "tf.print(somaMatriz)"
      ],
      "execution_count": 36,
      "outputs": [
        {
          "output_type": "stream",
          "text": [
            "\n",
            "Soma A + B\n",
            "[[4.9251852 6.40461731 4.33491611]\n",
            " [5.11578178 5.10860205 5.86773348]]\n"
          ],
          "name": "stdout"
        }
      ]
    },
    {
      "cell_type": "code",
      "metadata": {
        "colab": {
          "base_uri": "https://localhost:8080/"
        },
        "id": "6cXBQvhhUFmS",
        "outputId": "e12bb465-27aa-41a2-eed1-690d14579453"
      },
      "source": [
        "# Subtraia a matriz B da mesma matriz B\n",
        "print(\"\\nSubtração B-B\")\n",
        "subMatriz = tf.math.subtract(B,B)\n",
        "tf.print(subMatriz)"
      ],
      "execution_count": 37,
      "outputs": [
        {
          "output_type": "stream",
          "text": [
            "\n",
            "Subtração B-B\n",
            "[[0 0 0]\n",
            " [0 0 0]]\n"
          ],
          "name": "stdout"
        }
      ]
    },
    {
      "cell_type": "code",
      "metadata": {
        "colab": {
          "base_uri": "https://localhost:8080/"
        },
        "id": "2EQUN_TGUJZJ",
        "outputId": "a5c7377b-1fea-4023-bb6d-4d615f59c691"
      },
      "source": [
        "# Multiplicação da Matriz A e C\n",
        "print(\"\\nMultiplicação AxC\")\n",
        "multMatriz = tf.math.multiply(A,C)\n",
        "tf.print(multMatriz)"
      ],
      "execution_count": 38,
      "outputs": [
        {
          "output_type": "stream",
          "text": [
            "\n",
            "Multiplicação AxC\n",
            "[[-0.0718052313 0.170700207 -0.131608859]\n",
            " [0.0223734267 0.108427808 0.271553397]]\n"
          ],
          "name": "stdout"
        }
      ]
    },
    {
      "cell_type": "code",
      "metadata": {
        "colab": {
          "base_uri": "https://localhost:8080/"
        },
        "id": "Rkfzy8x2UJg6",
        "outputId": "8a097310-c56b-4e71-a10f-e2fb67137c29"
      },
      "source": [
        "# Transposta da matriz C\n",
        "print(\"\\nTransposta Matriz C\")\n",
        "transpMatriz = tf.transpose(C)\n",
        "tf.print(transpMatriz)"
      ],
      "execution_count": 39,
      "outputs": [
        {
          "output_type": "stream",
          "text": [
            "\n",
            "Transposta Matriz C\n",
            "[[0.959774613 0.193237901]\n",
            " [0.12152791 0.998395443]\n",
            " [0.197883129 0.312945604]]\n"
          ],
          "name": "stdout"
        }
      ]
    },
    {
      "cell_type": "code",
      "metadata": {
        "colab": {
          "base_uri": "https://localhost:8080/"
        },
        "id": "HayB0FqGUJnb",
        "outputId": "1c7a6c40-e337-45da-bd92-3fd39709e41d"
      },
      "source": [
        "# Determinante da matriz D\n",
        "print(\"\\nDeterminante Matriz D\")\n",
        "detMatriz = tf.linalg.det(D)\n",
        "tf.print(detMatriz)"
      ],
      "execution_count": 40,
      "outputs": [
        {
          "output_type": "stream",
          "text": [
            "\n",
            "Determinante Matriz D\n",
            "-37.999999999999993\n"
          ],
          "name": "stdout"
        }
      ]
    },
    {
      "cell_type": "code",
      "metadata": {
        "colab": {
          "base_uri": "https://localhost:8080/"
        },
        "id": "BIWNzoAlURpQ",
        "outputId": "72dbc3d6-1827-431e-98c5-9c945572b4bf"
      },
      "source": [
        "# Matrix Inversa da matriz D\n",
        "print(\"\\nMatriz Inversa D\")\n",
        "invMatriz = tf.linalg.inv(D)\n",
        "tf.print(invMatriz)"
      ],
      "execution_count": 41,
      "outputs": [
        {
          "output_type": "stream",
          "text": [
            "\n",
            "Matriz Inversa D\n",
            "[[-0.5 -0.5 -0.5]\n",
            " [0.15789473684210528 0.052631578947368418 0.21052631578947367]\n",
            " [0.39473684210526316 0.13157894736842105 0.0263157894736842]]\n"
          ],
          "name": "stdout"
        }
      ]
    }
  ]
}