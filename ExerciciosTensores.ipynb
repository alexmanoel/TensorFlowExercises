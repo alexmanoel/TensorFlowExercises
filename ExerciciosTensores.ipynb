{
  "nbformat": 4,
  "nbformat_minor": 0,
  "metadata": {
    "colab": {
      "name": "ExerciciosTensores.ipynb",
      "provenance": [],
      "authorship_tag": "ABX9TyPdQRYlGFyfEQRoBhmCOXxE",
      "include_colab_link": true
    },
    "kernelspec": {
      "name": "python3",
      "display_name": "Python 3"
    },
    "language_info": {
      "name": "python"
    }
  },
  "cells": [
    {
      "cell_type": "markdown",
      "metadata": {
        "id": "view-in-github",
        "colab_type": "text"
      },
      "source": [
        "<a href=\"https://colab.research.google.com/github/alexmanoel/TensorFlowExercises/blob/main/ExerciciosTensores.ipynb\" target=\"_parent\"><img src=\"https://colab.research.google.com/assets/colab-badge.svg\" alt=\"Open In Colab\"/></a>"
      ]
    },
    {
      "cell_type": "code",
      "metadata": {
        "id": "ZaPYegYYgZQm"
      },
      "source": [
        "# Tensores\n",
        "\n",
        "# Tensores são a estrutura de dados primária que o TensorFlow usa para operar no grafo computacional. \n",
        "# Podemos declarar esses tensores como variáveis. \n",
        "# Quando criamos um tensor e declaramos que ele é uma variável, o TensorFlow cria várias estruturas de grafo em nosso grafo computacional."
      ],
      "execution_count": 6,
      "outputs": []
    },
    {
      "cell_type": "code",
      "metadata": {
        "id": "-r1B-aANgvKR"
      },
      "source": [
        "# Importando os Pacotes\n",
        "import tensorflow as tf\n",
        "import os\n",
        "os.environ['TF_CPP_MIN_LOG_LEVEL'] = '3'"
      ],
      "execution_count": 7,
      "outputs": []
    },
    {
      "cell_type": "code",
      "metadata": {
        "colab": {
          "base_uri": "https://localhost:8080/"
        },
        "id": "ofAg00aehCK3",
        "outputId": "0180ea8b-2c81-407d-d09a-8a7685a2aabb"
      },
      "source": [
        "# Cria um tensor preenchido por 20 zeros, dimensão 1x20\n",
        "myTensor = tf.zeros([1,20])\n",
        "tf.print(myTensor)"
      ],
      "execution_count": 9,
      "outputs": [
        {
          "output_type": "stream",
          "text": [
            "[[0 0 0 ... 0 0 0]]\n"
          ],
          "name": "stdout"
        }
      ]
    },
    {
      "cell_type": "code",
      "metadata": {
        "colab": {
          "base_uri": "https://localhost:8080/"
        },
        "id": "YzP7KFMhiDIO",
        "outputId": "97cc3806-b223-4420-ec8f-0ff073b77d5d"
      },
      "source": [
        "# Declara a variável que recebe um tensor preenchido por 20 zeros\n",
        "myVar = tf.Variable(tf.zeros([1,20]))\n",
        "tf.print(myVar)"
      ],
      "execution_count": 14,
      "outputs": [
        {
          "output_type": "stream",
          "text": [
            "[[0 0 0 ... 0 0 0]]\n"
          ],
          "name": "stdout"
        }
      ]
    },
    {
      "cell_type": "code",
      "metadata": {
        "id": "noxIh_lgioQk"
      },
      "source": [
        "# Variáveis Python que podem ser usadas como parâmetro\n",
        "row_dim = 2\n",
        "col_dim = 3 "
      ],
      "execution_count": 15,
      "outputs": []
    },
    {
      "cell_type": "code",
      "metadata": {
        "colab": {
          "base_uri": "https://localhost:8080/"
        },
        "id": "HpD1NZIOiseb",
        "outputId": "3d3cff39-e787-47de-c23a-ebbbfc92832a"
      },
      "source": [
        "# Tensor inicializado com zeros usando como dimensões as variáveis criadas anteriormente\n",
        "tensorZeros = tf.Variable(tf.zeros([row_dim,col_dim]))\n",
        "tf.print(tensorZeros)"
      ],
      "execution_count": 16,
      "outputs": [
        {
          "output_type": "stream",
          "text": [
            "[[0 0 0]\n",
            " [0 0 0]]\n"
          ],
          "name": "stdout"
        }
      ]
    },
    {
      "cell_type": "code",
      "metadata": {
        "colab": {
          "base_uri": "https://localhost:8080/"
        },
        "id": "ncagg6i6jOco",
        "outputId": "0612a0a8-b761-423d-d4ab-029708304185"
      },
      "source": [
        "# Tensor inicializado com 1's\n",
        "tensorOnes = tf.Variable(tf.ones([row_dim,col_dim]))\n",
        "tf.print(tensorOnes)"
      ],
      "execution_count": 21,
      "outputs": [
        {
          "output_type": "stream",
          "text": [
            "[[1 1 1]\n",
            " [1 1 1]]\n"
          ],
          "name": "stdout"
        }
      ]
    },
    {
      "cell_type": "code",
      "metadata": {
        "colab": {
          "base_uri": "https://localhost:8080/"
        },
        "id": "tqlGlWO5jzhc",
        "outputId": "482b0199-0342-4fa8-8229-0608d8b567c0"
      },
      "source": [
        "# Tensor preenchido com valores constantes (variáveis Python criadas anteriormente)\n",
        "tensorFill = tf.Variable(tf.fill([row_dim,col_dim], -2))\n",
        "tf.print(tensorFill)"
      ],
      "execution_count": 22,
      "outputs": [
        {
          "output_type": "stream",
          "text": [
            "[[-2 -2 -2]\n",
            " [-2 -2 -2]]\n"
          ],
          "name": "stdout"
        }
      ]
    },
    {
      "cell_type": "code",
      "metadata": {
        "colab": {
          "base_uri": "https://localhost:8080/"
        },
        "id": "v-rsi_FQkS_G",
        "outputId": "8e26e933-e8a6-4cc0-caf1-225c86de3530"
      },
      "source": [
        "# Cria um tensor a partir de uma lista de valores constantes\n",
        "constTensor = tf.Variable(tf.constant([1,2,3,4,5,6]))\n",
        "tf.print(constTensor)"
      ],
      "execution_count": 23,
      "outputs": [
        {
          "output_type": "stream",
          "text": [
            "[1 2 3 4 5 6]\n"
          ],
          "name": "stdout"
        }
      ]
    },
    {
      "cell_type": "code",
      "metadata": {
        "colab": {
          "base_uri": "https://localhost:8080/"
        },
        "id": "f5icOOLyksqB",
        "outputId": "53b2620e-b215-475d-9533-622ff6b46160"
      },
      "source": [
        "# Similar ao anterior, mas usando variáveis Python defindas anteriormente:\n",
        "myVar2 = tf.Variable(tf.constant(3, shape = [row_dim,col_dim]))\n",
        "tf.print(myVar2)"
      ],
      "execution_count": 25,
      "outputs": [
        {
          "output_type": "stream",
          "text": [
            "[[3 3 3]\n",
            " [3 3 3]]\n"
          ],
          "name": "stdout"
        }
      ]
    },
    {
      "cell_type": "code",
      "metadata": {
        "colab": {
          "base_uri": "https://localhost:8080/"
        },
        "id": "j0rW80-6lKKU",
        "outputId": "ebb796f7-ebcc-4fa2-b412-f4126f5c3a74"
      },
      "source": [
        "# Gerando uma sequência de valores lineares com a função tf.linspace, começando por 0.0, terminando em 1.0, com 3 elementos\n",
        "tensorLin = tf.Variable(tf.linspace(0.0, 1.0, 3))\n",
        "tf.print(tensorLin)"
      ],
      "execution_count": 27,
      "outputs": [
        {
          "output_type": "stream",
          "text": [
            "[0 0.5 1]\n"
          ],
          "name": "stdout"
        }
      ]
    },
    {
      "cell_type": "code",
      "metadata": {
        "colab": {
          "base_uri": "https://localhost:8080/"
        },
        "id": "-0lRSY1hlyhg",
        "outputId": "0f1ddfe2-a724-478e-e2a2-88a1d906fcfd"
      },
      "source": [
        "# Gerando uma sequência de valores com a função tf.range, começando por 6, limite de 15 e saltando de 3 em 3\n",
        "tensorRange = tf.Variable(tf.range(start=6,limit=15,delta=3))\n",
        "tf.print(tensorRange)"
      ],
      "execution_count": 28,
      "outputs": [
        {
          "output_type": "stream",
          "text": [
            "[6 9 12]\n"
          ],
          "name": "stdout"
        }
      ]
    }
  ]
}